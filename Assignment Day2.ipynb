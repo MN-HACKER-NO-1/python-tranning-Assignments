{
 "cells": [
  {
   "cell_type": "markdown",
   "metadata": {},
   "source": [
    "# LIST DEFAULT FUNCTIONS"
   ]
  },
  {
   "cell_type": "code",
   "execution_count": 33,
   "metadata": {},
   "outputs": [
    {
     "name": "stdout",
     "output_type": "stream",
     "text": [
      "Original list1= [1, 2, 3, 'a', 'b']\n",
      "\n",
      "\n",
      "we are appending 'c' element in the list1\n",
      "[1, 2, 3, 'a', 'b', 'c']\n",
      "\n",
      "we are extending list1 with this iterable a=(4,5,6)\n",
      "[1, 2, 3, 'a', 'b', 'c', 4, 5, 6]\n",
      "\n",
      "we are inserting element 0 at index 0\n",
      "[0, 1, 2, 3, 'a', 'b', 'c', 4, 5, 6]\n",
      "\n",
      "we are using pop() function without index number\n",
      "[0, 1, 2, 3, 'a', 'b', 'c', 4, 5]\n",
      "\n",
      "we are using pop() function with index number 4\n",
      "[0, 1, 2, 3, 'b', 'c', 4, 5]\n",
      "\n",
      "we are removing the element b from the list\n",
      "[0, 1, 2, 3, 'c', 4, 5]\n",
      "\n",
      "we are counting the 'c' element from the list\n",
      "1\n",
      "\n",
      "we are copying list1 in to list2 using copy() function\n",
      "[0, 1, 2, 3, 'c', 4, 5]\n",
      "\n",
      "we are going to use the sort() function in list3\n",
      "['a', 'c', 'd', 'e', 'm', 'n', 'q', 't', 'w', 'y', 'z']\n",
      "\n",
      "we are going to reverse a list3 using reverse() function\n",
      "['z', 'y', 'w', 't', 'q', 'n', 'm', 'e', 'd', 'c', 'a']\n"
     ]
    }
   ],
   "source": [
    "list1=[1,2,3,'a','b']\n",
    "print('Original list1=',list1,end='\\n\\n\\n')\n",
    "print(\"we are appending 'c' element in the list1\")\n",
    "list1.append('c')\n",
    "print(list1,end='\\n\\n')\n",
    "print('we are extending list1 with this iterable a=(4,5,6)')\n",
    "a=(4,5,6)\n",
    "list1.extend(a)\n",
    "print(list1,end='\\n\\n')\n",
    "print('we are inserting element 0 at index 0')\n",
    "list1.insert(0,0)\n",
    "print(list1,end='\\n\\n')\n",
    "print('we are using pop() function without index number')\n",
    "list1.pop()\n",
    "print(list1,end='\\n\\n')\n",
    "print('we are using pop() function with index number 4')\n",
    "list1.pop(4)\n",
    "print(list1,end='\\n\\n')\n",
    "print('we are removing the element b from the list')\n",
    "list1.remove('b')\n",
    "print(list1,end='\\n\\n')\n",
    "print(\"we are counting the 'c' element from the list\")\n",
    "print(list1.count('c'),end='\\n\\n')\n",
    "print('we are copying list1 in to list2 using copy() function')\n",
    "list2=list1.copy()\n",
    "print(list2,end='\\n\\n')\n",
    "print('we are going to use the sort() function in list3')\n",
    "list3=['d','t','e','a','c','n','m','z','w','q','y']\n",
    "list3.sort()\n",
    "print(list3,end='\\n\\n')\n",
    "print('we are going to reverse a list3 using reverse() function')\n",
    "list3.reverse()\n",
    "print(list3)\n",
    "\n",
    "\n"
   ]
  },
  {
   "cell_type": "markdown",
   "metadata": {},
   "source": [
    "# Dictionary DEFAULT FUNCTIONS\n"
   ]
  },
  {
   "cell_type": "code",
   "execution_count": 26,
   "metadata": {},
   "outputs": [
    {
     "name": "stdout",
     "output_type": "stream",
     "text": [
      "dict_values(['one', 'two', 'three', 'four', 'five'])\n",
      "dict_keys([1, 2, 3, 4, 5])\n",
      "{1: 'one', 2: 'two', 3: 'three', 4: 'four', 5: 'five', 6: 'six', 7: 'seven', 8: 'eight', 9: 'nine', 10: 'ten'}\n",
      "mohd naved\n",
      "{1: 'one', 2: 'two', 3: 'three', 4: 'four', 6: 'six', 7: 'seven', 8: 'eight', 9: 'nine', 10: 'ten'}\n",
      "{1: 'one', 2: 'two', 3: 'three', 4: 'four', 6: 'six', 7: 'seven', 8: 'eight', 9: 'nine', 10: 'ten'}\n",
      "{1: 'one', 2: 'two', 3: 'three', 4: 'four', 6: 'six', 7: 'seven', 8: 'eight', 9: 'nine'}\n",
      "{1: 'one', 2: 'two', 3: 'three', 4: 'four', 6: 'six', 7: 'seven', 8: 'eight', 9: 'nine'}\n",
      "{1: 'one', 2: 'two', 3: 'three', 4: 'four', 6: 'six', 7: 'seven', 8: 'eight', 9: 'nine'}\n",
      "{}\n"
     ]
    }
   ],
   "source": [
    "dict1={1:'one',2:'two',3:'three',4:'four',5:'five'}\n",
    "print(dict1.values())\n",
    "print(dict1.keys())\n",
    "dict2={6:'six',7:'seven',8:'eight',9:'nine',10:'ten'}\n",
    "dict1.update(dict2)\n",
    "print(dict1)\n",
    "a='mohd naved'\n",
    "dict.fromkeys(a,100)\n",
    "print(a)\n",
    "dict1.get(1)\n",
    "dict1.pop(5)\n",
    "print(dict1)\n",
    "dict1.pop(11,'eleven')\n",
    "print(dict1)\n",
    "dict1.popitem()\n",
    "print(dict1)\n",
    "dict1.items()\n",
    "print(dict1)\n",
    "b=dict1.copy()\n",
    "print(b)\n",
    "dict1.clear()\n",
    "print(dict1)"
   ]
  },
  {
   "cell_type": "markdown",
   "metadata": {},
   "source": [
    "# TUPLE DEFAULT FUNCTIONS"
   ]
  },
  {
   "cell_type": "code",
   "execution_count": 33,
   "metadata": {},
   "outputs": [
    {
     "name": "stdout",
     "output_type": "stream",
     "text": [
      "3\n",
      "0\n"
     ]
    }
   ],
   "source": [
    "A=(1,2,3,4,5,6,1,7,2,8,9,1)\n",
    "print(A.count(1))\n",
    "print(A.index(1))"
   ]
  },
  {
   "cell_type": "markdown",
   "metadata": {},
   "source": [
    "# STRING DEFAULT FUNCTIONS"
   ]
  },
  {
   "cell_type": "code",
   "execution_count": 50,
   "metadata": {},
   "outputs": [
    {
     "name": "stdout",
     "output_type": "stream",
     "text": [
      "Mohd naved\n",
      "mohd naved\n",
      "***mohd naved**\n",
      "1\n",
      "b'mohd naved'\n",
      "True\n",
      "6\n",
      "False\n",
      "False\n",
      "False\n",
      "False\n",
      "Mohd Naved\n"
     ]
    }
   ],
   "source": [
    "a='mohd naved'\n",
    "print(a.capitalize())\n",
    "print(a.casefold())\n",
    "print(a.center(15,'*'))\n",
    "print(a.count('a'))\n",
    "print(a.encode())\n",
    "print(a.endswith('d'))\n",
    "print(a.find('a'))\n",
    "print(a.startswith('a'))\n",
    "print(a.isalpha())\n",
    "print(a.isalnum())\n",
    "print(a.istitle())\n",
    "print(a.title())"
   ]
  },
  {
   "cell_type": "code",
   "execution_count": null,
   "metadata": {},
   "outputs": [],
   "source": []
  },
  {
   "cell_type": "code",
   "execution_count": null,
   "metadata": {},
   "outputs": [],
   "source": []
  }
 ],
 "metadata": {
  "kernelspec": {
   "display_name": "Python 3",
   "language": "python",
   "name": "python3"
  },
  "language_info": {
   "codemirror_mode": {
    "name": "ipython",
    "version": 3
   },
   "file_extension": ".py",
   "mimetype": "text/x-python",
   "name": "python",
   "nbconvert_exporter": "python",
   "pygments_lexer": "ipython3",
   "version": "3.7.4"
  }
 },
 "nbformat": 4,
 "nbformat_minor": 2
}
